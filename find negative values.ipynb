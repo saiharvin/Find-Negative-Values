{
 "cells": [
  {
   "cell_type": "code",
   "execution_count": 31,
   "id": "cb89107b",
   "metadata": {},
   "outputs": [],
   "source": [
    "import numpy as np\n",
    "from qiskit import QuantumCircuit, Aer, execute\n",
    "from qiskit.visualization import plot_histogram\n",
    "\n",
    "# Define the list of numbers\n",
    "numbers = [1, 2, -3, 5, -4]"
   ]
  },
  {
   "cell_type": "code",
   "execution_count": 32,
   "id": "31d9f638",
   "metadata": {},
   "outputs": [],
   "source": [
    "# Determine the number of qubits needed to represent the numbers\n",
    "max_num = max(map(abs, numbers))\n",
    "num_qubits = max(2, max_num.bit_length() + 2)"
   ]
  },
  {
   "cell_type": "code",
   "execution_count": 33,
   "id": "794f15e0",
   "metadata": {},
   "outputs": [
    {
     "data": {
      "text/html": [
       "<pre style=\"word-wrap: normal;white-space: pre;background: #fff0;line-height: 1.1;font-family: &quot;Courier New&quot;,Courier,monospace\">     \n",
       "q_0: \n",
       "     \n",
       "q_1: \n",
       "     \n",
       "q_2: \n",
       "     \n",
       "q_3: \n",
       "     \n",
       "q_4: \n",
       "     \n",
       "c: 5/\n",
       "     </pre>"
      ],
      "text/plain": [
       "     \n",
       "q_0: \n",
       "     \n",
       "q_1: \n",
       "     \n",
       "q_2: \n",
       "     \n",
       "q_3: \n",
       "     \n",
       "q_4: \n",
       "     \n",
       "c: 5/\n",
       "     "
      ]
     },
     "execution_count": 33,
     "metadata": {},
     "output_type": "execute_result"
    }
   ],
   "source": [
    "qc = QuantumCircuit(num_qubits, num_qubits)\n",
    "qc.draw()"
   ]
  },
  {
   "cell_type": "code",
   "execution_count": 34,
   "id": "df030d1b",
   "metadata": {},
   "outputs": [
    {
     "data": {
      "text/html": [
       "<pre style=\"word-wrap: normal;white-space: pre;background: #fff0;line-height: 1.1;font-family: &quot;Courier New&quot;,Courier,monospace\">     ┌───┐\n",
       "q_0: ┤ H ├\n",
       "     ├───┤\n",
       "q_1: ┤ H ├\n",
       "     ├───┤\n",
       "q_2: ┤ H ├\n",
       "     ├───┤\n",
       "q_3: ┤ H ├\n",
       "     ├───┤\n",
       "q_4: ┤ H ├\n",
       "     └───┘\n",
       "c: 5/═════\n",
       "          </pre>"
      ],
      "text/plain": [
       "     ┌───┐\n",
       "q_0: ┤ H ├\n",
       "     ├───┤\n",
       "q_1: ┤ H ├\n",
       "     ├───┤\n",
       "q_2: ┤ H ├\n",
       "     ├───┤\n",
       "q_3: ┤ H ├\n",
       "     ├───┤\n",
       "q_4: ┤ H ├\n",
       "     └───┘\n",
       "c: 5/═════\n",
       "          "
      ]
     },
     "execution_count": 34,
     "metadata": {},
     "output_type": "execute_result"
    }
   ],
   "source": [
    "for qubit in range(num_qubits):\n",
    "    qc.h(qubit)\n",
    "    \n",
    "qc.draw()"
   ]
  },
  {
   "cell_type": "code",
   "execution_count": 35,
   "id": "9dcb50a5",
   "metadata": {},
   "outputs": [
    {
     "data": {
      "text/html": [
       "<pre style=\"word-wrap: normal;white-space: pre;background: #fff0;line-height: 1.1;font-family: &quot;Courier New&quot;,Courier,monospace\">        \n",
       "q_0: ───\n",
       "        \n",
       "q_1: ───\n",
       "        \n",
       "q_2: ───\n",
       "        \n",
       "q_3: ─■─\n",
       "      │ \n",
       "q_4: ─■─\n",
       "        </pre>"
      ],
      "text/plain": [
       "        \n",
       "q_0: ───\n",
       "        \n",
       "q_1: ───\n",
       "        \n",
       "q_2: ───\n",
       "        \n",
       "q_3: ─■─\n",
       "      │ \n",
       "q_4: ─■─\n",
       "        "
      ]
     },
     "execution_count": 35,
     "metadata": {},
     "output_type": "execute_result"
    }
   ],
   "source": [
    "#oracle circuit\n",
    "oracle = QuantumCircuit(num_qubits,name='oracle')\n",
    "oracle.cz(num_qubits-2,num_qubits-1)\n",
    "oracle.to_gate()\n",
    "oracle.draw()"
   ]
  },
  {
   "cell_type": "code",
   "execution_count": 36,
   "id": "fe5b372b",
   "metadata": {},
   "outputs": [
    {
     "data": {
      "text/html": [
       "<pre style=\"word-wrap: normal;white-space: pre;background: #fff0;line-height: 1.1;font-family: &quot;Courier New&quot;,Courier,monospace\">     ┌───┐┌─────────┐\n",
       "q_0: ┤ H ├┤0        ├\n",
       "     ├───┤│         │\n",
       "q_1: ┤ H ├┤1        ├\n",
       "     ├───┤│         │\n",
       "q_2: ┤ H ├┤2 oracle ├\n",
       "     ├───┤│         │\n",
       "q_3: ┤ H ├┤3        ├\n",
       "     ├───┤│         │\n",
       "q_4: ┤ H ├┤4        ├\n",
       "     └───┘└─────────┘\n",
       "c: 5/════════════════\n",
       "                     </pre>"
      ],
      "text/plain": [
       "     ┌───┐┌─────────┐\n",
       "q_0: ┤ H ├┤0        ├\n",
       "     ├───┤│         │\n",
       "q_1: ┤ H ├┤1        ├\n",
       "     ├───┤│         │\n",
       "q_2: ┤ H ├┤2 oracle ├\n",
       "     ├───┤│         │\n",
       "q_3: ┤ H ├┤3        ├\n",
       "     ├───┤│         │\n",
       "q_4: ┤ H ├┤4        ├\n",
       "     └───┘└─────────┘\n",
       "c: 5/════════════════\n",
       "                     "
      ]
     },
     "execution_count": 36,
     "metadata": {},
     "output_type": "execute_result"
    }
   ],
   "source": [
    "backend = Aer.get_backend('statevector_simulator')\n",
    "qc.append(oracle,list(range(num_qubits)))\n",
    "qc.draw()"
   ]
  },
  {
   "cell_type": "code",
   "execution_count": 37,
   "id": "686ee02b",
   "metadata": {},
   "outputs": [],
   "source": [
    "job = execute(qc,backend)\n",
    "result = job.result()\n",
    "sv = result.get_statevector()\n",
    "# np.around(sv,2)"
   ]
  },
  {
   "cell_type": "code",
   "execution_count": 38,
   "id": "294458f0",
   "metadata": {},
   "outputs": [
    {
     "data": {
      "text/html": [
       "<pre style=\"word-wrap: normal;white-space: pre;background: #fff0;line-height: 1.1;font-family: &quot;Courier New&quot;,Courier,monospace\">     ┌───┐┌───┐   ┌───┐┌───┐                    \n",
       "q_0: ┤ H ├┤ X ├─■─┤ X ├┤ H ├────────────────────\n",
       "     ├───┤├───┤ │ └───┘├───┤┌───┐               \n",
       "q_1: ┤ H ├┤ X ├─┼───■──┤ X ├┤ H ├───────────────\n",
       "     ├───┤├───┤ │   │  └───┘├───┤┌───┐          \n",
       "q_2: ┤ H ├┤ X ├─┼───┼────■──┤ X ├┤ H ├──────────\n",
       "     ├───┤├───┤ │   │    │  └───┘├───┤┌───┐     \n",
       "q_3: ┤ H ├┤ X ├─┼───┼────┼────■──┤ X ├┤ H ├─────\n",
       "     ├───┤├───┤ │   │    │    │  ├───┤├───┤┌───┐\n",
       "q_4: ┤ H ├┤ X ├─■───■────■────■──┤ X ├┤ H ├┤ X ├\n",
       "     └───┘└───┘                  └───┘└───┘└───┘</pre>"
      ],
      "text/plain": [
       "     ┌───┐┌───┐   ┌───┐┌───┐                    \n",
       "q_0: ┤ H ├┤ X ├─■─┤ X ├┤ H ├────────────────────\n",
       "     ├───┤├───┤ │ └───┘├───┤┌───┐               \n",
       "q_1: ┤ H ├┤ X ├─┼───■──┤ X ├┤ H ├───────────────\n",
       "     ├───┤├───┤ │   │  └───┘├───┤┌───┐          \n",
       "q_2: ┤ H ├┤ X ├─┼───┼────■──┤ X ├┤ H ├──────────\n",
       "     ├───┤├───┤ │   │    │  └───┘├───┤┌───┐     \n",
       "q_3: ┤ H ├┤ X ├─┼───┼────┼────■──┤ X ├┤ H ├─────\n",
       "     ├───┤├───┤ │   │    │    │  ├───┤├───┤┌───┐\n",
       "q_4: ┤ H ├┤ X ├─■───■────■────■──┤ X ├┤ H ├┤ X ├\n",
       "     └───┘└───┘                  └───┘└───┘└───┘"
      ]
     },
     "execution_count": 38,
     "metadata": {},
     "output_type": "execute_result"
    }
   ],
   "source": [
    "diff = QuantumCircuit(num_qubits,name='diffusion')\n",
    "for qubit in range(num_qubits):\n",
    "    diff.h(qubit)\n",
    "    diff.x(qubit)\n",
    "\n",
    "for qubit in range(num_qubits - 1):\n",
    "    diff.cz(qubit, num_qubits - 1)\n",
    "\n",
    "for qubit in range(num_qubits):\n",
    "    diff.x(qubit)\n",
    "    diff.h(qubit)\n",
    "\n",
    "diff.x(num_qubits-1)\n",
    "    \n",
    "diff.to_gate()\n",
    "diff.draw()"
   ]
  },
  {
   "cell_type": "code",
   "execution_count": 39,
   "id": "6c99c8b0",
   "metadata": {},
   "outputs": [
    {
     "data": {
      "text/html": [
       "<pre style=\"word-wrap: normal;white-space: pre;background: #fff0;line-height: 1.1;font-family: &quot;Courier New&quot;,Courier,monospace\">     ┌───┐┌─────────┐┌────────────┐\n",
       "q_0: ┤ H ├┤0        ├┤0           ├\n",
       "     ├───┤│         ││            │\n",
       "q_1: ┤ H ├┤1        ├┤1           ├\n",
       "     ├───┤│         ││            │\n",
       "q_2: ┤ H ├┤2 oracle ├┤2 diffusion ├\n",
       "     ├───┤│         ││            │\n",
       "q_3: ┤ H ├┤3        ├┤3           ├\n",
       "     ├───┤│         ││            │\n",
       "q_4: ┤ H ├┤4        ├┤4           ├\n",
       "     └───┘└─────────┘└────────────┘\n",
       "c: 5/══════════════════════════════\n",
       "                                   </pre>"
      ],
      "text/plain": [
       "     ┌───┐┌─────────┐┌────────────┐\n",
       "q_0: ┤ H ├┤0        ├┤0           ├\n",
       "     ├───┤│         ││            │\n",
       "q_1: ┤ H ├┤1        ├┤1           ├\n",
       "     ├───┤│         ││            │\n",
       "q_2: ┤ H ├┤2 oracle ├┤2 diffusion ├\n",
       "     ├───┤│         ││            │\n",
       "q_3: ┤ H ├┤3        ├┤3           ├\n",
       "     ├───┤│         ││            │\n",
       "q_4: ┤ H ├┤4        ├┤4           ├\n",
       "     └───┘└─────────┘└────────────┘\n",
       "c: 5/══════════════════════════════\n",
       "                                   "
      ]
     },
     "execution_count": 39,
     "metadata": {},
     "output_type": "execute_result"
    }
   ],
   "source": [
    "qc.append(diff,list(range(num_qubits)))\n",
    "qc.draw()"
   ]
  },
  {
   "cell_type": "code",
   "execution_count": 40,
   "id": "9a4d7215",
   "metadata": {},
   "outputs": [
    {
     "data": {
      "text/html": [
       "<pre style=\"word-wrap: normal;white-space: pre;background: #fff0;line-height: 1.1;font-family: &quot;Courier New&quot;,Courier,monospace\">     ┌───┐┌─────────┐┌────────────┐┌─┐            \n",
       "q_0: ┤ H ├┤0        ├┤0           ├┤M├────────────\n",
       "     ├───┤│         ││            │└╥┘┌─┐         \n",
       "q_1: ┤ H ├┤1        ├┤1           ├─╫─┤M├─────────\n",
       "     ├───┤│         ││            │ ║ └╥┘┌─┐      \n",
       "q_2: ┤ H ├┤2 oracle ├┤2 diffusion ├─╫──╫─┤M├──────\n",
       "     ├───┤│         ││            │ ║  ║ └╥┘┌─┐   \n",
       "q_3: ┤ H ├┤3        ├┤3           ├─╫──╫──╫─┤M├───\n",
       "     ├───┤│         ││            │ ║  ║  ║ └╥┘┌─┐\n",
       "q_4: ┤ H ├┤4        ├┤4           ├─╫──╫──╫──╫─┤M├\n",
       "     └───┘└─────────┘└────────────┘ ║  ║  ║  ║ └╥┘\n",
       "c: 5/═══════════════════════════════╩══╩══╩══╩══╩═\n",
       "                                    0  1  2  3  4 </pre>"
      ],
      "text/plain": [
       "     ┌───┐┌─────────┐┌────────────┐┌─┐            \n",
       "q_0: ┤ H ├┤0        ├┤0           ├┤M├────────────\n",
       "     ├───┤│         ││            │└╥┘┌─┐         \n",
       "q_1: ┤ H ├┤1        ├┤1           ├─╫─┤M├─────────\n",
       "     ├───┤│         ││            │ ║ └╥┘┌─┐      \n",
       "q_2: ┤ H ├┤2 oracle ├┤2 diffusion ├─╫──╫─┤M├──────\n",
       "     ├───┤│         ││            │ ║  ║ └╥┘┌─┐   \n",
       "q_3: ┤ H ├┤3        ├┤3           ├─╫──╫──╫─┤M├───\n",
       "     ├───┤│         ││            │ ║  ║  ║ └╥┘┌─┐\n",
       "q_4: ┤ H ├┤4        ├┤4           ├─╫──╫──╫──╫─┤M├\n",
       "     └───┘└─────────┘└────────────┘ ║  ║  ║  ║ └╥┘\n",
       "c: 5/═══════════════════════════════╩══╩══╩══╩══╩═\n",
       "                                    0  1  2  3  4 "
      ]
     },
     "execution_count": 40,
     "metadata": {},
     "output_type": "execute_result"
    }
   ],
   "source": [
    "# Measure the qubits\n",
    "qc.measure(range(num_qubits), range(num_qubits))\n",
    "qc.draw()"
   ]
  },
  {
   "cell_type": "code",
   "execution_count": 41,
   "id": "81bd5570",
   "metadata": {},
   "outputs": [],
   "source": [
    "simulator = Aer.get_backend('qasm_simulator')\n",
    "job = execute(qc, simulator, shots=1024)\n",
    "\n",
    "# Get and plot the measurement results\n",
    "result = job.result()\n",
    "counts = result.get_counts(qc)\n",
    "# plot_histogram(counts)"
   ]
  },
  {
   "cell_type": "code",
   "execution_count": 42,
   "id": "2b499540",
   "metadata": {},
   "outputs": [],
   "source": [
    "# print(counts)"
   ]
  },
  {
   "cell_type": "code",
   "execution_count": 43,
   "id": "29244b48",
   "metadata": {},
   "outputs": [],
   "source": [
    "def decimal_to_signed_twos_complement(decimal_num, bit_width):\n",
    "    if decimal_num < 0:\n",
    "        # Calculate the absolute value of the decimal number\n",
    "        abs_decimal = abs(decimal_num)\n",
    "        \n",
    "        # Convert the absolute value to binary\n",
    "        binary_repr = bin(abs_decimal)[2:].zfill(bit_width)\n",
    "        \n",
    "        # Apply 2's complement by inverting the bits and adding 1\n",
    "        inverted_bits = ''.join(['1' if bit == '0' else '0' for bit in binary_repr])\n",
    "        inverted_bits = inverted_bits[-bit_width:]  # Ensure the same number of bits\n",
    "        twos_complement = bin(int(inverted_bits, 2) + 1)[2:]\n",
    "        \n",
    "        return twos_complement\n",
    "    else:\n",
    "        # Convert the positive decimal number to binary\n",
    "        binary_repr = bin(decimal_num)[2:].zfill(bit_width)\n",
    "        \n",
    "        return binary_repr\n"
   ]
  },
  {
   "cell_type": "code",
   "execution_count": 44,
   "id": "77f15f11",
   "metadata": {},
   "outputs": [],
   "source": [
    "for num in numbers:\n",
    "    if num < 0:\n",
    "        tar = num\n",
    "        break"
   ]
  },
  {
   "cell_type": "code",
   "execution_count": 45,
   "id": "268cc733",
   "metadata": {},
   "outputs": [],
   "source": [
    "check = decimal_to_signed_twos_complement(tar, num_qubits)"
   ]
  },
  {
   "cell_type": "code",
   "execution_count": 46,
   "id": "f54e53ab",
   "metadata": {},
   "outputs": [
    {
     "name": "stdout",
     "output_type": "stream",
     "text": [
      "True\n"
     ]
    }
   ],
   "source": [
    "# Check if a negative number was found\n",
    "if check in counts:\n",
    "    print(True)\n",
    "else:\n",
    "    print(False)"
   ]
  }
 ],
 "metadata": {
  "kernelspec": {
   "display_name": "Python 3 (ipykernel)",
   "language": "python",
   "name": "python3"
  },
  "language_info": {
   "codemirror_mode": {
    "name": "ipython",
    "version": 3
   },
   "file_extension": ".py",
   "mimetype": "text/x-python",
   "name": "python",
   "nbconvert_exporter": "python",
   "pygments_lexer": "ipython3",
   "version": "3.10.9"
  }
 },
 "nbformat": 4,
 "nbformat_minor": 5
}
